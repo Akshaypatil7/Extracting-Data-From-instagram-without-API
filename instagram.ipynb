{
 "cells": [
  {
   "cell_type": "code",
   "execution_count": 1,
   "metadata": {},
   "outputs": [
    {
     "name": "stderr",
     "output_type": "stream",
     "text": [
      "C:\\Users\\admin\\Anaconda3\\lib\\site-packages\\win_unicode_console\\__init__.py:31: RuntimeWarning: sys.stdin.encoding == 'cp1252', whereas sys.stdout.encoding == 'UTF-8', readline hook consumer may assume they are the same\n",
      "  readline_hook.enable(use_pyreadline=use_pyreadline)\n"
     ]
    }
   ],
   "source": [
    "import instaloader\n",
    "import pandas as pd\n",
    "import requests\n",
    "import json\n",
    "import time\n",
    "import re"
   ]
  },
  {
   "cell_type": "code",
   "execution_count": 2,
   "metadata": {},
   "outputs": [],
   "source": [
    "# Set the path\n",
    "path = 'C:/Users/admin/Documents/Python Files/flask'"
   ]
  },
  {
   "cell_type": "code",
   "execution_count": 3,
   "metadata": {},
   "outputs": [],
   "source": [
    "def instagram(hashtag_csv):\n",
    "    data = pd.read_csv(hashtag_csv)\n",
    "    hashes = list(data['Hashtags'].values)\n",
    "    elements = []\n",
    "    for hashtag in hashes:\n",
    "        url = 'https://www.instagram.com/explore/tags/'+hashtag+'/?__a=1'\n",
    "        posts_json = requests.get(url).json()\n",
    "        for i in range(len(posts_json['graphql']['hashtag']['edge_hashtag_to_top_posts']['edges'])):\n",
    "            post_caption = posts_json['graphql']['hashtag']['edge_hashtag_to_top_posts']['edges'][i]['node']['edge_media_to_caption']['edges'][0]['node']['text']\n",
    "            try:\n",
    "                first_hashtag = re.findall(r\"#(\\w+)\", post_caption)[0]\n",
    "            except:\n",
    "                first_hashtag = ''\n",
    "            timestamp = posts_json['graphql']['hashtag']['edge_hashtag_to_top_posts']['edges'][i]['node']['taken_at_timestamp']\n",
    "            time_of_post = time.ctime(timestamp)\n",
    "            num_of_comments = posts_json['graphql']['hashtag']['edge_hashtag_to_top_posts']['edges'][i]['node']['edge_media_to_comment']['count']\n",
    "            num_of_likes = posts_json['graphql']['hashtag']['edge_hashtag_to_top_posts']['edges'][i]['node']['edge_liked_by']['count']\n",
    "            user_id = posts_json['graphql']['hashtag']['edge_hashtag_to_top_posts']['edges'][i]['node']['owner']['id']\n",
    "            L = instaloader.Instaloader()\n",
    "            profile = instaloader.Profile.from_id(L.context, user_id)\n",
    "            username = profile.username\n",
    "            print(profile.username)\n",
    "            profile_url = 'https://www.instagram.com/'+username+'/?__a=1'\n",
    "            profile_json = requests.get(profile_url).json()\n",
    "            followers_count = profile_json['graphql']['user']['edge_followed_by']['count']\n",
    "            following_count = profile_json['graphql']['user']['edge_follow']['count']\n",
    "            l = [str(hashtag),str(post_caption),str(first_hashtag),str(time_of_post),str(num_of_comments),str(num_of_likes),str(username),str(followers_count),str(following_count)]\n",
    "            elements.append(l)\n",
    "    my_df = pd.DataFrame(elements)\n",
    "    my_df.to_csv(path+'/instagram_results.csv', index=True, header=['hashtag','post_caption','first_hashtag','time_of_post','num_of_comments','num_of_likes','username','followers_count','following_count'])"
   ]
  },
  {
   "cell_type": "code",
   "execution_count": 5,
   "metadata": {},
   "outputs": [
    {
     "name": "stdout",
     "output_type": "stream",
     "text": [
      " * Serving Flask app \"__main__\" (lazy loading)\n",
      " * Environment: production\n",
      "   WARNING: Do not use the development server in a production environment.\n",
      "   Use a production WSGI server instead.\n",
      " * Debug mode: off\n"
     ]
    },
    {
     "name": "stderr",
     "output_type": "stream",
     "text": [
      " * Running on http://127.0.0.1:5000/ (Press CTRL+C to quit)\n",
      "127.0.0.1 - - [07/Sep/2019 20:06:25] \"\u001b[37mGET / HTTP/1.1\u001b[0m\" 200 -\n"
     ]
    }
   ],
   "source": [
    "import os\n",
    "from flask import Flask, flash, request, redirect, url_for\n",
    "from werkzeug.utils import secure_filename\n",
    "import pandas as pd\n",
    "\n",
    "UPLOAD_FOLDER = path\n",
    "ALLOWED_EXTENSIONS = set(['csv'])\n",
    "\n",
    "app = Flask(__name__)\n",
    "app.config['UPLOAD_FOLDER'] = UPLOAD_FOLDER\n",
    "def allowed_file(filename):\n",
    "    return '.' in filename and \\\n",
    "           filename.rsplit('.', 1)[1].lower() in ALLOWED_EXTENSIONS\n",
    "\n",
    "@app.route('/', methods=['GET', 'POST'])\n",
    "def upload_file():\n",
    "    if request.method == 'POST':\n",
    "        # check if the post request has the file part\n",
    "        if 'file' not in request.files:\n",
    "            flash('No file part')\n",
    "            return redirect(request.url)\n",
    "        file = request.files['file']\n",
    "        # if user does not select file, browser also\n",
    "        # submit an empty part without filename\n",
    "        if file.filename == '':\n",
    "            flash('No selected file')\n",
    "            return redirect(request.url)\n",
    "        if file and allowed_file(file.filename):\n",
    "            filename = secure_filename(file.filename)\n",
    "            file.save(os.path.join(app.config['UPLOAD_FOLDER'], filename))\n",
    "            instagram('C:/Users/admin/Documents/Python Files/flask/'+filename)\n",
    "            return redirect(url_for('uploaded_file',\n",
    "                                    filename='instagram_results.csv'))\n",
    "    return '''\n",
    "    <!doctype html>\n",
    "    <title>Upload </title>\n",
    "    <h1>Upload .csv File consisting of hashtags under 'Hashtags' Column name</h1>\n",
    "    <form method=post enctype=multipart/form-data>\n",
    "      <input type=file name=file>\n",
    "      <input type=submit value=Upload>\n",
    "    </form>\n",
    "    '''\n",
    "from flask import send_from_directory\n",
    "\n",
    "@app.route('/uploads/<filename>')\n",
    "def uploaded_file(filename):\n",
    "    return send_from_directory(app.config['UPLOAD_FOLDER'],\n",
    "                               'instagram_results.csv')\n",
    "from werkzeug import SharedDataMiddleware\n",
    "app.add_url_rule('/uploads/<filename>', 'uploaded_file',\n",
    "                 build_only=True)\n",
    "app.wsgi_app = SharedDataMiddleware(app.wsgi_app, {\n",
    "    '/uploads':  app.config['UPLOAD_FOLDER']\n",
    "})\n",
    "if __name__ == \"__main__\":\n",
    "    app.run()"
   ]
  },
  {
   "cell_type": "code",
   "execution_count": null,
   "metadata": {},
   "outputs": [],
   "source": []
  }
 ],
 "metadata": {
  "kernelspec": {
   "display_name": "Python 3",
   "language": "python",
   "name": "python3"
  },
  "language_info": {
   "codemirror_mode": {
    "name": "ipython",
    "version": 3
   },
   "file_extension": ".py",
   "mimetype": "text/x-python",
   "name": "python",
   "nbconvert_exporter": "python",
   "pygments_lexer": "ipython3",
   "version": "3.6.7"
  }
 },
 "nbformat": 4,
 "nbformat_minor": 2
}
